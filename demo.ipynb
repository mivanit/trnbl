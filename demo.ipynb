{
 "cells": [
  {
   "cell_type": "markdown",
   "metadata": {},
   "source": [
    "# Setup"
   ]
  },
  {
   "cell_type": "code",
   "execution_count": null,
   "metadata": {},
   "outputs": [],
   "source": [
    "import typing\n",
    "\n",
    "import torch\n",
    "import torch.nn as nn\n",
    "from torch.utils.data import TensorDataset, random_split\n",
    "import pandas as pd"
   ]
  },
  {
   "cell_type": "code",
   "execution_count": null,
   "metadata": {},
   "outputs": [],
   "source": [
    "%load_ext autoreload\n",
    "%autoreload 2"
   ]
  },
  {
   "cell_type": "markdown",
   "metadata": {},
   "source": [
    "## prep data"
   ]
  },
  {
   "cell_type": "code",
   "execution_count": null,
   "metadata": {},
   "outputs": [],
   "source": [
    "def prep_iris_data(\n",
    "    path: str = \"data/iris.csv\",\n",
    "    p_test: float = 0.2,\n",
    ") -> dict:\n",
    "    # Load data\n",
    "    iris_df: pd.DataFrame = pd.read_csv(path)\n",
    "\n",
    "    # Create a mapping from integer labels to species names\n",
    "    target_list: list[str] = list(iris_df['species'].unique())\n",
    "    target_map: dict[str, int] = {name: i for i, name in enumerate(target_list)}\n",
    "\n",
    "    # Convert species to integer labels\n",
    "    iris_df['species'] = iris_df['species'].map(target_map)\n",
    "\n",
    "    # Create tensors\n",
    "    inputs: torch.Tensor = torch.tensor(iris_df.iloc[:, :-1].values, dtype=torch.float32)\n",
    "    targets: torch.Tensor = torch.tensor(iris_df['species'].values, dtype=torch.int64)\n",
    "\n",
    "    # Create a TensorDataset\n",
    "    dataset: TensorDataset = TensorDataset(inputs, targets)\n",
    "\n",
    "    # Determine train and test sizes\n",
    "    total_size: int = len(dataset)\n",
    "    test_size: int = int(p_test * total_size)\n",
    "    train_size: int = total_size - test_size\n",
    "\n",
    "    # Split dataset into train and test sets\n",
    "    train_dataset, test_dataset = random_split(dataset, [train_size, test_size])\n",
    "\n",
    "    # Prepare the final dictionary\n",
    "    result = {\n",
    "        \"train\": train_dataset,\n",
    "        \"test\": test_dataset,\n",
    "        \"column_names\": iris_df.columns[:-1].tolist(),\n",
    "        \"target_list\": target_list,\n",
    "        \"target_map\": target_map,\n",
    "    }\n",
    "\n",
    "    return result"
   ]
  },
  {
   "cell_type": "code",
   "execution_count": null,
   "metadata": {},
   "outputs": [],
   "source": [
    "IRIS_DATA: dict = prep_iris_data()\n",
    "print(IRIS_DATA)\n",
    "print(IRIS_DATA['train'][0])\n",
    "print(IRIS_DATA['test'][0])"
   ]
  },
  {
   "cell_type": "markdown",
   "metadata": {},
   "source": [
    "## define DNN"
   ]
  },
  {
   "cell_type": "code",
   "execution_count": null,
   "metadata": {},
   "outputs": [],
   "source": [
    "class DNN(nn.Module):\n",
    "\tdef __init__(self, d_input: int, d_hidden: int, d_output: int):\n",
    "\t\tsuper().__init__()\n",
    "\t\tself.net: nn.Module = nn.Sequential(\n",
    "\t\t\tnn.Linear(d_input, d_hidden),\n",
    "\t\t\tnn.ReLU(),\n",
    "\t\t\tnn.Linear(d_hidden, d_output),\n",
    "\t\t\tnn.Softmax(dim=1)\n",
    "\t\t)\n",
    "\t\n",
    "\tdef forward(self, x: torch.Tensor) -> torch.Tensor:\n",
    "\t\treturn self.net(x)\n",
    "\t\n",
    "\tdef predict(self, x: torch.Tensor) -> torch.Tensor:\n",
    "\t\treturn torch.argmax(self.forward(x), dim=1)"
   ]
  },
  {
   "cell_type": "markdown",
   "metadata": {},
   "source": [
    "# Init model & dataset"
   ]
  },
  {
   "cell_type": "code",
   "execution_count": null,
   "metadata": {},
   "outputs": [],
   "source": [
    "# Initialize the DNN model\n",
    "model = DNN(\n",
    "    d_input = 4,\n",
    "    d_hidden = 10,\n",
    "    d_output = 3,\n",
    ")\n",
    "\n",
    "# Loss function and optimizer\n",
    "criterion = nn.CrossEntropyLoss()\n",
    "optimizer = torch.optim.Adam(model.parameters(), lr=0.001)\n",
    "\n",
    "# Prepare the Iris dataset\n",
    "iris_data = prep_iris_data()  # Assuming this calls the function we defined earlier\n",
    "TRAIN_LOADER = torch.utils.data.DataLoader(iris_data['train'], batch_size=32, shuffle=True)\n",
    "TEST_LOADER = torch.utils.data.DataLoader(iris_data['test'], batch_size=32, shuffle=False)\n"
   ]
  },
  {
   "cell_type": "markdown",
   "metadata": {},
   "source": [
    "# init logger"
   ]
  },
  {
   "cell_type": "code",
   "execution_count": null,
   "metadata": {},
   "outputs": [],
   "source": [
    "from trnbl.loggers.local import LocalLogger\n",
    "# from trnbl.loggers.wandb import WandbLogger\n",
    "from trnbl.loggers.tensorboard import TensorBoardLogger\n",
    "from trnbl.training_manager import TrainingManager"
   ]
  },
  {
   "cell_type": "code",
   "execution_count": null,
   "metadata": {},
   "outputs": [],
   "source": [
    "\n",
    "\n",
    "# logger = LocalLogger(\n",
    "#     project=\"iris-demo\",\n",
    "#     metric_names=[\"train/loss\", \"train/acc\", \"val/loss\", \"val/acc\"],\n",
    "#     train_config=dict(\n",
    "#         model=str(model),\n",
    "#         dataset=\"iris\",\n",
    "#         optimizer=str(optimizer),\n",
    "#         criterion=str(criterion),\n",
    "#     ),\n",
    "#     base_path=\"frontend\",\n",
    "# )\n",
    "\n",
    "logger = TensorBoardLogger(log_dir=\"tensorboard\")\n",
    "\t\n"
   ]
  },
  {
   "cell_type": "markdown",
   "metadata": {},
   "source": [
    "# define evaluation function"
   ]
  },
  {
   "cell_type": "code",
   "execution_count": null,
   "metadata": {},
   "outputs": [],
   "source": [
    "\n",
    "def eval_func(model):\n",
    "    losses = torch.full((len(TEST_LOADER),), fill_value=torch.nan)\n",
    "    accuracies = torch.full((len(TEST_LOADER),), fill_value=torch.nan)\n",
    "    for idx, (inputs, targets) in enumerate(TEST_LOADER):\n",
    "        outputs = model(inputs)\n",
    "        loss = criterion(outputs, targets)\n",
    "        accuracy = torch.sum(torch.argmax(outputs, dim=1) == targets).item() / len(targets)\n",
    "        losses[idx] = loss.item()\n",
    "        accuracies[idx] = accuracy\n",
    "\n",
    "    return {\n",
    "        \"val/loss\": losses.mean().item(),\n",
    "        \"val/acc\": accuracies.mean().item(),\n",
    "    }\n",
    "\n"
   ]
  },
  {
   "cell_type": "markdown",
   "metadata": {},
   "source": [
    "# run training loop"
   ]
  },
  {
   "cell_type": "code",
   "execution_count": null,
   "metadata": {},
   "outputs": [],
   "source": [
    "epochs: int = 80\n",
    "\n",
    "with TrainingManager(\n",
    "    model=model,\n",
    "    dataloader=TRAIN_LOADER,\n",
    "    logger=logger,\n",
    "    epochs=epochs,\n",
    "    evals={\n",
    "        \"1 epochs\": eval_func,\n",
    "        \"0.1 runs\": lambda model: logger.get_mem_usage(),\n",
    "    }.items(),\n",
    "    checkpoint_interval=\"50 epochs\",\n",
    ") as tp:\n",
    "\n",
    "    # Training loop\n",
    "    model.train()\n",
    "    for epoch in range(epochs):\n",
    "        for inputs, targets in TRAIN_LOADER:\n",
    "            optimizer.zero_grad()\n",
    "            outputs = model(inputs)\n",
    "            loss = criterion(outputs, targets)\n",
    "            loss.backward()\n",
    "            optimizer.step()\n",
    "\n",
    "            accuracy = torch.sum(torch.argmax(outputs, dim=1) == targets).item() / len(targets)\n",
    "            \n",
    "            tp.batch_update(\n",
    "                samples=len(targets),\n",
    "                **{\"train/loss\": loss.item(), \"train/acc\": accuracy},\n",
    "            )\n",
    "\n",
    "        tp.epoch_update()\n"
   ]
  }
 ],
 "metadata": {
  "kernelspec": {
   "display_name": "Python 3",
   "language": "python",
   "name": "python3"
  },
  "language_info": {
   "codemirror_mode": {
    "name": "ipython",
    "version": 3
   },
   "file_extension": ".py",
   "mimetype": "text/x-python",
   "name": "python",
   "nbconvert_exporter": "python",
   "pygments_lexer": "ipython3",
   "version": "3.11.4"
  },
  "orig_nbformat": 4
 },
 "nbformat": 4,
 "nbformat_minor": 2
}
