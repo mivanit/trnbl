{
 "cells": [
  {
   "cell_type": "markdown",
   "metadata": {},
   "source": [
    "# Setup"
   ]
  },
  {
   "cell_type": "code",
   "execution_count": 1,
   "metadata": {},
   "outputs": [],
   "source": [
    "import typing\n",
    "\n",
    "import torch\n",
    "import torch.nn as nn\n",
    "from torch.utils.data import TensorDataset, random_split\n",
    "import pandas as pd"
   ]
  },
  {
   "cell_type": "code",
   "execution_count": 2,
   "metadata": {},
   "outputs": [],
   "source": [
    "%load_ext autoreload\n",
    "%autoreload 2"
   ]
  },
  {
   "cell_type": "markdown",
   "metadata": {},
   "source": [
    "## prep data"
   ]
  },
  {
   "cell_type": "code",
   "execution_count": 3,
   "metadata": {},
   "outputs": [],
   "source": [
    "def prep_iris_data(\n",
    "    path: str = \"../demos/training_data/iris.csv\",\n",
    "    p_test: float = 0.2,\n",
    ") -> dict:\n",
    "    # Load data\n",
    "    iris_df: pd.DataFrame = pd.read_csv(path)\n",
    "\n",
    "    # Create a mapping from integer labels to species names\n",
    "    target_list: list[str] = list(iris_df['species'].unique())\n",
    "    target_map: dict[str, int] = {name: i for i, name in enumerate(target_list)}\n",
    "\n",
    "    # Convert species to integer labels\n",
    "    iris_df['species'] = iris_df['species'].map(target_map)\n",
    "\n",
    "    # Create tensors\n",
    "    inputs: torch.Tensor = torch.tensor(iris_df.iloc[:, :-1].values, dtype=torch.float32)\n",
    "    targets: torch.Tensor = torch.tensor(iris_df['species'].values, dtype=torch.int64)\n",
    "\n",
    "    # Create a TensorDataset\n",
    "    dataset: TensorDataset = TensorDataset(inputs, targets)\n",
    "\n",
    "    # Determine train and test sizes\n",
    "    total_size: int = len(dataset)\n",
    "    test_size: int = int(p_test * total_size)\n",
    "    train_size: int = total_size - test_size\n",
    "\n",
    "    # Split dataset into train and test sets\n",
    "    train_dataset, test_dataset = random_split(dataset, [train_size, test_size])\n",
    "\n",
    "    # Prepare the final dictionary\n",
    "    result = {\n",
    "        \"train\": train_dataset,\n",
    "        \"test\": test_dataset,\n",
    "        \"column_names\": iris_df.columns[:-1].tolist(),\n",
    "        \"target_list\": target_list,\n",
    "        \"target_map\": target_map,\n",
    "    }\n",
    "\n",
    "    return result"
   ]
  },
  {
   "cell_type": "code",
   "execution_count": 4,
   "metadata": {},
   "outputs": [
    {
     "name": "stdout",
     "output_type": "stream",
     "text": [
      "{'train': <torch.utils.data.dataset.Subset object at 0x00000299584A6EA0>, 'test': <torch.utils.data.dataset.Subset object at 0x000002995A69FD10>, 'column_names': ['sepal_length', 'sepal_width', 'petal_length', 'petal_width'], 'target_list': ['setosa', 'versicolor', 'virginica'], 'target_map': {'setosa': 0, 'versicolor': 1, 'virginica': 2}}\n",
      "(tensor([6.3000, 2.9000, 5.6000, 1.8000]), tensor(2))\n",
      "(tensor([6.4000, 2.7000, 5.3000, 1.9000]), tensor(2))\n"
     ]
    }
   ],
   "source": [
    "IRIS_DATA: dict = prep_iris_data()\n",
    "print(IRIS_DATA)\n",
    "print(IRIS_DATA['train'][0])\n",
    "print(IRIS_DATA['test'][0])"
   ]
  },
  {
   "cell_type": "markdown",
   "metadata": {},
   "source": [
    "## define DNN"
   ]
  },
  {
   "cell_type": "code",
   "execution_count": 5,
   "metadata": {},
   "outputs": [],
   "source": [
    "class DNN(nn.Module):\n",
    "\tdef __init__(self, d_input: int, d_hidden: int, d_output: int):\n",
    "\t\tsuper().__init__()\n",
    "\t\tself.net: nn.Module = nn.Sequential(\n",
    "\t\t\tnn.Linear(d_input, d_hidden),\n",
    "\t\t\tnn.ReLU(),\n",
    "\t\t\tnn.Linear(d_hidden, d_output),\n",
    "\t\t\tnn.Softmax(dim=1)\n",
    "\t\t)\n",
    "\t\n",
    "\tdef forward(self, x: torch.Tensor) -> torch.Tensor:\n",
    "\t\treturn self.net(x)\n",
    "\t\n",
    "\tdef predict(self, x: torch.Tensor) -> torch.Tensor:\n",
    "\t\treturn torch.argmax(self.forward(x), dim=1)"
   ]
  },
  {
   "cell_type": "markdown",
   "metadata": {},
   "source": [
    "# Init model & dataset"
   ]
  },
  {
   "cell_type": "code",
   "execution_count": 6,
   "metadata": {},
   "outputs": [],
   "source": [
    "# Initialize the DNN model\n",
    "model: DNN = DNN(\n",
    "    d_input = 4,\n",
    "    d_hidden = 10,\n",
    "    d_output = 3,\n",
    ")\n",
    "model.train()\n",
    "\n",
    "# Loss function and optimizer\n",
    "criterion = nn.CrossEntropyLoss()\n",
    "optimizer = torch.optim.Adam(model.parameters(), lr=0.001)\n",
    "\n",
    "# Prepare the Iris dataset\n",
    "iris_data = prep_iris_data()  # Assuming this calls the function we defined earlier\n",
    "TRAIN_LOADER = torch.utils.data.DataLoader(iris_data['train'], batch_size=32, shuffle=True)\n",
    "TEST_LOADER = torch.utils.data.DataLoader(iris_data['test'], batch_size=32, shuffle=False)\n"
   ]
  },
  {
   "cell_type": "markdown",
   "metadata": {},
   "source": [
    "# init logger"
   ]
  },
  {
   "cell_type": "code",
   "execution_count": 7,
   "metadata": {},
   "outputs": [],
   "source": [
    "from trnbl.loggers.local import LocalLogger\n",
    "# from trnbl.loggers.wandb import WandbLogger\n",
    "from trnbl.loggers.tensorboard import TensorBoardLogger\n",
    "from trnbl.training_manager import TrainingManager"
   ]
  },
  {
   "cell_type": "code",
   "execution_count": 8,
   "metadata": {},
   "outputs": [
    {
     "name": "stdout",
     "output_type": "stream",
     "text": [
      "# starting logger with id main-hf4264-240723_0129-tarasu\n"
     ]
    }
   ],
   "source": [
    "\n",
    "\n",
    "logger = LocalLogger(\n",
    "    project=\"iris-demo\",\n",
    "    metric_names=[\"train/loss\", \"train/acc\", \"val/loss\", \"val/acc\"],\n",
    "    train_config=dict(\n",
    "        model=str(model),\n",
    "        dataset=\"iris\",\n",
    "        optimizer=str(optimizer),\n",
    "        criterion=str(criterion),\n",
    "    ),\n",
    "    base_path=\"../demos/local\",\n",
    ")\n",
    "\n",
    "# logger = TensorBoardLogger(log_dir=\"demos/tensorboard\")\n",
    "\t\n"
   ]
  },
  {
   "cell_type": "markdown",
   "metadata": {},
   "source": [
    "# define evaluation function"
   ]
  },
  {
   "cell_type": "code",
   "execution_count": 9,
   "metadata": {},
   "outputs": [],
   "source": [
    "\n",
    "def eval_func(model):\n",
    "    losses = torch.full((len(TEST_LOADER),), fill_value=torch.nan)\n",
    "    accuracies = torch.full((len(TEST_LOADER),), fill_value=torch.nan)\n",
    "    for idx, (inputs, targets) in enumerate(TEST_LOADER):\n",
    "        outputs = model(inputs)\n",
    "        loss = criterion(outputs, targets)\n",
    "        accuracy = torch.sum(torch.argmax(outputs, dim=1) == targets).item() / len(targets)\n",
    "        losses[idx] = loss.item()\n",
    "        accuracies[idx] = accuracy\n",
    "\n",
    "    return {\n",
    "        \"val/loss\": losses.mean().item(),\n",
    "        \"val/acc\": accuracies.mean().item(),\n",
    "    }\n",
    "\n"
   ]
  },
  {
   "cell_type": "markdown",
   "metadata": {},
   "source": [
    "# run training loop"
   ]
  },
  {
   "cell_type": "code",
   "execution_count": 10,
   "metadata": {},
   "outputs": [
    {
     "name": "stdout",
     "output_type": "stream",
     "text": [
      "# starting training manager initialization\n"
     ]
    },
    {
     "name": "stderr",
     "output_type": "stream",
     "text": [
      "training run:   0%|          | 0/70 [00:00<?, ? epochs/s]"
     ]
    },
    {
     "name": "stdout",
     "output_type": "stream",
     "text": [
      "# initialized training manager\n"
     ]
    },
    {
     "name": "stderr",
     "output_type": "stream",
     "text": [
      "training run: 100%|██████████| 70/70 [00:26<00:00,  2.65 epochs/s]"
     ]
    },
    {
     "name": "stdout",
     "output_type": "stream",
     "text": [
      "# training complete\n",
      "# closing logger\n"
     ]
    },
    {
     "name": "stderr",
     "output_type": "stream",
     "text": [
      "\n"
     ]
    }
   ],
   "source": [
    "with TrainingManager(\n",
    "    model=model,\n",
    "    logger=logger,\n",
    "    evals={\n",
    "        \"1 epochs\": eval_func,\n",
    "        \"1/2 epochs\": lambda model: logger.get_mem_usage(),\n",
    "    }.items(),\n",
    "    checkpoint_interval=\"50 epochs\",\n",
    ") as tr:\n",
    "\n",
    "    # Training loop\n",
    "    for epoch in tr.epoch_loop(range(70)):\n",
    "        for inputs, targets in tr.batch_loop(TRAIN_LOADER):\n",
    "            optimizer.zero_grad()\n",
    "            outputs = model(inputs)\n",
    "            loss = criterion(outputs, targets)\n",
    "            loss.backward()\n",
    "            optimizer.step()\n",
    "\n",
    "            accuracy = torch.sum(torch.argmax(outputs, dim=1) == targets).item() / len(targets)\n",
    "            \n",
    "            tr.batch_update(\n",
    "                samples=len(targets),\n",
    "                **{\"train/loss\": loss.item(), \"train/acc\": accuracy},\n",
    "            )\n"
   ]
  }
 ],
 "metadata": {
  "kernelspec": {
   "display_name": "Python 3",
   "language": "python",
   "name": "python3"
  },
  "language_info": {
   "codemirror_mode": {
    "name": "ipython",
    "version": 3
   },
   "file_extension": ".py",
   "mimetype": "text/x-python",
   "name": "python",
   "nbconvert_exporter": "python",
   "pygments_lexer": "ipython3",
   "version": "3.12.4"
  },
  "orig_nbformat": 4
 },
 "nbformat": 4,
 "nbformat_minor": 2
}
